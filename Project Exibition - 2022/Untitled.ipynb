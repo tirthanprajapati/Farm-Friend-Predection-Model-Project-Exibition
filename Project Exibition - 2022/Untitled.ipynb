{
 "cells": [
  {
   "cell_type": "code",
   "execution_count": 3,
   "id": "c8b89ba2",
   "metadata": {},
   "outputs": [],
   "source": [
    "import pandas as pd\n",
    "import matplotlib.pyplot as plt\n",
    "import seaborn as sns\n",
    "%matplotlib inline"
   ]
  },
  {
   "cell_type": "code",
   "execution_count": 6,
   "id": "36171eda",
   "metadata": {},
   "outputs": [],
   "source": [
    "agri1 = pd.read_csv('Dataset/fao_data_crops_data.csv')"
   ]
  },
  {
   "cell_type": "code",
   "execution_count": 23,
   "id": "6b6dfaa9",
   "metadata": {},
   "outputs": [
    {
     "data": {
      "text/html": [
       "<div>\n",
       "<style scoped>\n",
       "    .dataframe tbody tr th:only-of-type {\n",
       "        vertical-align: middle;\n",
       "    }\n",
       "\n",
       "    .dataframe tbody tr th {\n",
       "        vertical-align: top;\n",
       "    }\n",
       "\n",
       "    .dataframe thead th {\n",
       "        text-align: right;\n",
       "    }\n",
       "</style>\n",
       "<table border=\"1\" class=\"dataframe\">\n",
       "  <thead>\n",
       "    <tr style=\"text-align: right;\">\n",
       "      <th></th>\n",
       "      <th>country_or_area</th>\n",
       "      <th>element_code</th>\n",
       "      <th>element</th>\n",
       "      <th>year</th>\n",
       "      <th>unit</th>\n",
       "      <th>value</th>\n",
       "      <th>value_footnotes</th>\n",
       "      <th>category</th>\n",
       "    </tr>\n",
       "  </thead>\n",
       "  <tbody>\n",
       "    <tr>\n",
       "      <th>0</th>\n",
       "      <td>Americas +</td>\n",
       "      <td>31</td>\n",
       "      <td>Area Harvested</td>\n",
       "      <td>2007.0</td>\n",
       "      <td>Ha</td>\n",
       "      <td>49404.0</td>\n",
       "      <td>A</td>\n",
       "      <td>agave_fibres_nes</td>\n",
       "    </tr>\n",
       "    <tr>\n",
       "      <th>1</th>\n",
       "      <td>Americas +</td>\n",
       "      <td>31</td>\n",
       "      <td>Area Harvested</td>\n",
       "      <td>2006.0</td>\n",
       "      <td>Ha</td>\n",
       "      <td>49404.0</td>\n",
       "      <td>A</td>\n",
       "      <td>agave_fibres_nes</td>\n",
       "    </tr>\n",
       "    <tr>\n",
       "      <th>2</th>\n",
       "      <td>Americas +</td>\n",
       "      <td>31</td>\n",
       "      <td>Area Harvested</td>\n",
       "      <td>2005.0</td>\n",
       "      <td>Ha</td>\n",
       "      <td>49404.0</td>\n",
       "      <td>A</td>\n",
       "      <td>agave_fibres_nes</td>\n",
       "    </tr>\n",
       "    <tr>\n",
       "      <th>3</th>\n",
       "      <td>Americas +</td>\n",
       "      <td>31</td>\n",
       "      <td>Area Harvested</td>\n",
       "      <td>2004.0</td>\n",
       "      <td>Ha</td>\n",
       "      <td>49113.0</td>\n",
       "      <td>A</td>\n",
       "      <td>agave_fibres_nes</td>\n",
       "    </tr>\n",
       "    <tr>\n",
       "      <th>4</th>\n",
       "      <td>Americas +</td>\n",
       "      <td>31</td>\n",
       "      <td>Area Harvested</td>\n",
       "      <td>2003.0</td>\n",
       "      <td>Ha</td>\n",
       "      <td>48559.0</td>\n",
       "      <td>A</td>\n",
       "      <td>agave_fibres_nes</td>\n",
       "    </tr>\n",
       "  </tbody>\n",
       "</table>\n",
       "</div>"
      ],
      "text/plain": [
       "  country_or_area element_code         element    year unit    value  \\\n",
       "0      Americas +           31  Area Harvested  2007.0   Ha  49404.0   \n",
       "1      Americas +           31  Area Harvested  2006.0   Ha  49404.0   \n",
       "2      Americas +           31  Area Harvested  2005.0   Ha  49404.0   \n",
       "3      Americas +           31  Area Harvested  2004.0   Ha  49113.0   \n",
       "4      Americas +           31  Area Harvested  2003.0   Ha  48559.0   \n",
       "\n",
       "  value_footnotes          category  \n",
       "0              A   agave_fibres_nes  \n",
       "1              A   agave_fibres_nes  \n",
       "2              A   agave_fibres_nes  \n",
       "3              A   agave_fibres_nes  \n",
       "4              A   agave_fibres_nes  "
      ]
     },
     "execution_count": 23,
     "metadata": {},
     "output_type": "execute_result"
    }
   ],
   "source": [
    "agri1.head()"
   ]
  },
  {
   "cell_type": "code",
   "execution_count": 30,
   "id": "23f24df5",
   "metadata": {},
   "outputs": [
    {
     "name": "stdout",
     "output_type": "stream",
     "text": [
      "Index(['country_or_area', 'element_code', 'element', 'year', 'unit', 'value',\n",
      "       'value_footnotes', 'category'],\n",
      "      dtype='object')\n"
     ]
    }
   ],
   "source": [
    "print(agri1.columns)"
   ]
  },
  {
   "cell_type": "code",
   "execution_count": null,
   "id": "4e3b81fd",
   "metadata": {},
   "outputs": [],
   "source": []
  },
  {
   "cell_type": "code",
   "execution_count": null,
   "id": "00dd0e90",
   "metadata": {},
   "outputs": [],
   "source": []
  },
  {
   "cell_type": "code",
   "execution_count": null,
   "id": "a6d6aa9f",
   "metadata": {},
   "outputs": [],
   "source": []
  },
  {
   "cell_type": "code",
   "execution_count": 24,
   "id": "a629dae4",
   "metadata": {},
   "outputs": [
    {
     "name": "stdout",
     "output_type": "stream",
     "text": [
      "-----------------------------Analysis Of 1st Dataset Over--------------------------------\n"
     ]
    }
   ],
   "source": [
    "print(\"-----------------------------Analysis Of 1st Dataset Over--------------------------------\")"
   ]
  },
  {
   "cell_type": "code",
   "execution_count": 8,
   "id": "e9f36b1a",
   "metadata": {},
   "outputs": [],
   "source": [
    "agri2 = pd.read_csv('Dataset/fao_data_fertilizers_data.csv')"
   ]
  },
  {
   "cell_type": "code",
   "execution_count": 10,
   "id": "0f723b9f",
   "metadata": {},
   "outputs": [
    {
     "data": {
      "text/html": [
       "<div>\n",
       "<style scoped>\n",
       "    .dataframe tbody tr th:only-of-type {\n",
       "        vertical-align: middle;\n",
       "    }\n",
       "\n",
       "    .dataframe tbody tr th {\n",
       "        vertical-align: top;\n",
       "    }\n",
       "\n",
       "    .dataframe thead th {\n",
       "        text-align: right;\n",
       "    }\n",
       "</style>\n",
       "<table border=\"1\" class=\"dataframe\">\n",
       "  <thead>\n",
       "    <tr style=\"text-align: right;\">\n",
       "      <th></th>\n",
       "      <th>country_or_area</th>\n",
       "      <th>element_code</th>\n",
       "      <th>element</th>\n",
       "      <th>year</th>\n",
       "      <th>unit</th>\n",
       "      <th>value</th>\n",
       "      <th>value_footnotes</th>\n",
       "      <th>category</th>\n",
       "    </tr>\n",
       "  </thead>\n",
       "  <tbody>\n",
       "    <tr>\n",
       "      <th>0</th>\n",
       "      <td>Americas +</td>\n",
       "      <td>11</td>\n",
       "      <td>Stocks</td>\n",
       "      <td>2007.0</td>\n",
       "      <td>Head</td>\n",
       "      <td>3100.0</td>\n",
       "      <td>A</td>\n",
       "      <td>animals_live_nes</td>\n",
       "    </tr>\n",
       "    <tr>\n",
       "      <th>1</th>\n",
       "      <td>Americas +</td>\n",
       "      <td>11</td>\n",
       "      <td>Stocks</td>\n",
       "      <td>2006.0</td>\n",
       "      <td>Head</td>\n",
       "      <td>3100.0</td>\n",
       "      <td>A</td>\n",
       "      <td>animals_live_nes</td>\n",
       "    </tr>\n",
       "    <tr>\n",
       "      <th>2</th>\n",
       "      <td>Americas +</td>\n",
       "      <td>11</td>\n",
       "      <td>Stocks</td>\n",
       "      <td>2005.0</td>\n",
       "      <td>Head</td>\n",
       "      <td>3100.0</td>\n",
       "      <td>A</td>\n",
       "      <td>animals_live_nes</td>\n",
       "    </tr>\n",
       "    <tr>\n",
       "      <th>3</th>\n",
       "      <td>Americas +</td>\n",
       "      <td>11</td>\n",
       "      <td>Stocks</td>\n",
       "      <td>2004.0</td>\n",
       "      <td>Head</td>\n",
       "      <td>3100.0</td>\n",
       "      <td>A</td>\n",
       "      <td>animals_live_nes</td>\n",
       "    </tr>\n",
       "    <tr>\n",
       "      <th>4</th>\n",
       "      <td>Americas +</td>\n",
       "      <td>11</td>\n",
       "      <td>Stocks</td>\n",
       "      <td>2003.0</td>\n",
       "      <td>Head</td>\n",
       "      <td>3100.0</td>\n",
       "      <td>A</td>\n",
       "      <td>animals_live_nes</td>\n",
       "    </tr>\n",
       "  </tbody>\n",
       "</table>\n",
       "</div>"
      ],
      "text/plain": [
       "  country_or_area element_code element    year  unit   value value_footnotes  \\\n",
       "0      Americas +           11  Stocks  2007.0  Head  3100.0              A    \n",
       "1      Americas +           11  Stocks  2006.0  Head  3100.0              A    \n",
       "2      Americas +           11  Stocks  2005.0  Head  3100.0              A    \n",
       "3      Americas +           11  Stocks  2004.0  Head  3100.0              A    \n",
       "4      Americas +           11  Stocks  2003.0  Head  3100.0              A    \n",
       "\n",
       "           category  \n",
       "0  animals_live_nes  \n",
       "1  animals_live_nes  \n",
       "2  animals_live_nes  \n",
       "3  animals_live_nes  \n",
       "4  animals_live_nes  "
      ]
     },
     "execution_count": 10,
     "metadata": {},
     "output_type": "execute_result"
    }
   ],
   "source": [
    "agri2.head()"
   ]
  },
  {
   "cell_type": "code",
   "execution_count": 31,
   "id": "0ddbba76",
   "metadata": {},
   "outputs": [
    {
     "name": "stdout",
     "output_type": "stream",
     "text": [
      "Index(['country_or_area', 'element_code', 'element', 'year', 'unit', 'value',\n",
      "       'value_footnotes', 'category'],\n",
      "      dtype='object')\n"
     ]
    }
   ],
   "source": [
    "print(agri2.columns)"
   ]
  },
  {
   "cell_type": "code",
   "execution_count": null,
   "id": "58c74635",
   "metadata": {},
   "outputs": [],
   "source": []
  },
  {
   "cell_type": "code",
   "execution_count": null,
   "id": "156b8b0c",
   "metadata": {},
   "outputs": [],
   "source": []
  },
  {
   "cell_type": "code",
   "execution_count": null,
   "id": "1b8d9c04",
   "metadata": {},
   "outputs": [],
   "source": []
  },
  {
   "cell_type": "code",
   "execution_count": 25,
   "id": "308c6853",
   "metadata": {},
   "outputs": [
    {
     "name": "stdout",
     "output_type": "stream",
     "text": [
      "-----------------------------Analysis Of 2nd Dataset Over--------------------------------\n"
     ]
    }
   ],
   "source": [
    "print(\"-----------------------------Analysis Of 2nd Dataset Over--------------------------------\")"
   ]
  },
  {
   "cell_type": "code",
   "execution_count": 11,
   "id": "169144a9",
   "metadata": {},
   "outputs": [],
   "source": [
    "agri3 = pd.read_csv('Dataset/fao_data_forest_data.csv')"
   ]
  },
  {
   "cell_type": "code",
   "execution_count": 12,
   "id": "e242142d",
   "metadata": {},
   "outputs": [
    {
     "data": {
      "text/html": [
       "<div>\n",
       "<style scoped>\n",
       "    .dataframe tbody tr th:only-of-type {\n",
       "        vertical-align: middle;\n",
       "    }\n",
       "\n",
       "    .dataframe tbody tr th {\n",
       "        vertical-align: top;\n",
       "    }\n",
       "\n",
       "    .dataframe thead th {\n",
       "        text-align: right;\n",
       "    }\n",
       "</style>\n",
       "<table border=\"1\" class=\"dataframe\">\n",
       "  <thead>\n",
       "    <tr style=\"text-align: right;\">\n",
       "      <th></th>\n",
       "      <th>country_or_area</th>\n",
       "      <th>element_code</th>\n",
       "      <th>element</th>\n",
       "      <th>year</th>\n",
       "      <th>unit</th>\n",
       "      <th>value</th>\n",
       "      <th>value_footnotes</th>\n",
       "      <th>category</th>\n",
       "    </tr>\n",
       "  </thead>\n",
       "  <tbody>\n",
       "    <tr>\n",
       "      <th>0</th>\n",
       "      <td>Albania</td>\n",
       "      <td>150</td>\n",
       "      <td>Non-fertilizer use</td>\n",
       "      <td>2007.0</td>\n",
       "      <td>tonnes</td>\n",
       "      <td>0.0</td>\n",
       "      <td>NR</td>\n",
       "      <td>ammonia_anhydrous</td>\n",
       "    </tr>\n",
       "    <tr>\n",
       "      <th>1</th>\n",
       "      <td>Albania</td>\n",
       "      <td>150</td>\n",
       "      <td>Non-fertilizer use</td>\n",
       "      <td>2006.0</td>\n",
       "      <td>tonnes</td>\n",
       "      <td>0.0</td>\n",
       "      <td>NR</td>\n",
       "      <td>ammonia_anhydrous</td>\n",
       "    </tr>\n",
       "    <tr>\n",
       "      <th>2</th>\n",
       "      <td>Albania</td>\n",
       "      <td>150</td>\n",
       "      <td>Non-fertilizer use</td>\n",
       "      <td>2005.0</td>\n",
       "      <td>tonnes</td>\n",
       "      <td>0.0</td>\n",
       "      <td>NR</td>\n",
       "      <td>ammonia_anhydrous</td>\n",
       "    </tr>\n",
       "    <tr>\n",
       "      <th>3</th>\n",
       "      <td>Albania</td>\n",
       "      <td>150</td>\n",
       "      <td>Non-fertilizer use</td>\n",
       "      <td>2004.0</td>\n",
       "      <td>tonnes</td>\n",
       "      <td>0.0</td>\n",
       "      <td>NR</td>\n",
       "      <td>ammonia_anhydrous</td>\n",
       "    </tr>\n",
       "    <tr>\n",
       "      <th>4</th>\n",
       "      <td>Albania</td>\n",
       "      <td>150</td>\n",
       "      <td>Non-fertilizer use</td>\n",
       "      <td>2003.0</td>\n",
       "      <td>tonnes</td>\n",
       "      <td>0.0</td>\n",
       "      <td>NR</td>\n",
       "      <td>ammonia_anhydrous</td>\n",
       "    </tr>\n",
       "  </tbody>\n",
       "</table>\n",
       "</div>"
      ],
      "text/plain": [
       "  country_or_area element_code             element    year    unit  value  \\\n",
       "0         Albania          150  Non-fertilizer use  2007.0  tonnes    0.0   \n",
       "1         Albania          150  Non-fertilizer use  2006.0  tonnes    0.0   \n",
       "2         Albania          150  Non-fertilizer use  2005.0  tonnes    0.0   \n",
       "3         Albania          150  Non-fertilizer use  2004.0  tonnes    0.0   \n",
       "4         Albania          150  Non-fertilizer use  2003.0  tonnes    0.0   \n",
       "\n",
       "  value_footnotes           category  \n",
       "0              NR  ammonia_anhydrous  \n",
       "1              NR  ammonia_anhydrous  \n",
       "2              NR  ammonia_anhydrous  \n",
       "3              NR  ammonia_anhydrous  \n",
       "4              NR  ammonia_anhydrous  "
      ]
     },
     "execution_count": 12,
     "metadata": {},
     "output_type": "execute_result"
    }
   ],
   "source": [
    "agri3.head()"
   ]
  },
  {
   "cell_type": "code",
   "execution_count": 32,
   "id": "e4b76e8a",
   "metadata": {},
   "outputs": [
    {
     "name": "stdout",
     "output_type": "stream",
     "text": [
      "Index(['country_or_area', 'element_code', 'element', 'year', 'unit', 'value',\n",
      "       'value_footnotes', 'category'],\n",
      "      dtype='object')\n"
     ]
    }
   ],
   "source": [
    "print(agri3.columns)"
   ]
  },
  {
   "cell_type": "code",
   "execution_count": null,
   "id": "f1d84014",
   "metadata": {},
   "outputs": [],
   "source": []
  },
  {
   "cell_type": "code",
   "execution_count": null,
   "id": "351090f9",
   "metadata": {},
   "outputs": [],
   "source": []
  },
  {
   "cell_type": "code",
   "execution_count": null,
   "id": "3ca18533",
   "metadata": {},
   "outputs": [],
   "source": []
  },
  {
   "cell_type": "code",
   "execution_count": 26,
   "id": "6f801312",
   "metadata": {},
   "outputs": [
    {
     "name": "stdout",
     "output_type": "stream",
     "text": [
      "-----------------------------Analysis Of 3rd Dataset Over--------------------------------\n"
     ]
    }
   ],
   "source": [
    "print(\"-----------------------------Analysis Of 3rd Dataset Over--------------------------------\")"
   ]
  },
  {
   "cell_type": "code",
   "execution_count": 15,
   "id": "8851c733",
   "metadata": {},
   "outputs": [],
   "source": [
    "agri4 = pd.read_csv('Dataset/fao_data_land_data.csv')"
   ]
  },
  {
   "cell_type": "code",
   "execution_count": 16,
   "id": "aa6438af",
   "metadata": {},
   "outputs": [
    {
     "data": {
      "text/html": [
       "<div>\n",
       "<style scoped>\n",
       "    .dataframe tbody tr th:only-of-type {\n",
       "        vertical-align: middle;\n",
       "    }\n",
       "\n",
       "    .dataframe tbody tr th {\n",
       "        vertical-align: top;\n",
       "    }\n",
       "\n",
       "    .dataframe thead th {\n",
       "        text-align: right;\n",
       "    }\n",
       "</style>\n",
       "<table border=\"1\" class=\"dataframe\">\n",
       "  <thead>\n",
       "    <tr style=\"text-align: right;\">\n",
       "      <th></th>\n",
       "      <th>country_or_area</th>\n",
       "      <th>element_code</th>\n",
       "      <th>element</th>\n",
       "      <th>year</th>\n",
       "      <th>unit</th>\n",
       "      <th>value</th>\n",
       "      <th>value_footnotes</th>\n",
       "      <th>category</th>\n",
       "    </tr>\n",
       "  </thead>\n",
       "  <tbody>\n",
       "    <tr>\n",
       "      <th>0</th>\n",
       "      <td>Afghanistan</td>\n",
       "      <td>11</td>\n",
       "      <td>Area</td>\n",
       "      <td>2007.0</td>\n",
       "      <td>1000 Ha</td>\n",
       "      <td>38661.0</td>\n",
       "      <td>Q</td>\n",
       "      <td>agricultural_area</td>\n",
       "    </tr>\n",
       "    <tr>\n",
       "      <th>1</th>\n",
       "      <td>Afghanistan</td>\n",
       "      <td>11</td>\n",
       "      <td>Area</td>\n",
       "      <td>2006.0</td>\n",
       "      <td>1000 Ha</td>\n",
       "      <td>38659.0</td>\n",
       "      <td>Fm</td>\n",
       "      <td>agricultural_area</td>\n",
       "    </tr>\n",
       "    <tr>\n",
       "      <th>2</th>\n",
       "      <td>Afghanistan</td>\n",
       "      <td>11</td>\n",
       "      <td>Area</td>\n",
       "      <td>2005.0</td>\n",
       "      <td>1000 Ha</td>\n",
       "      <td>38515.0</td>\n",
       "      <td>Fm</td>\n",
       "      <td>agricultural_area</td>\n",
       "    </tr>\n",
       "    <tr>\n",
       "      <th>3</th>\n",
       "      <td>Afghanistan</td>\n",
       "      <td>11</td>\n",
       "      <td>Area</td>\n",
       "      <td>2004.0</td>\n",
       "      <td>1000 Ha</td>\n",
       "      <td>38064.0</td>\n",
       "      <td>Fm</td>\n",
       "      <td>agricultural_area</td>\n",
       "    </tr>\n",
       "    <tr>\n",
       "      <th>4</th>\n",
       "      <td>Afghanistan</td>\n",
       "      <td>11</td>\n",
       "      <td>Area</td>\n",
       "      <td>2003.0</td>\n",
       "      <td>1000 Ha</td>\n",
       "      <td>38899.0</td>\n",
       "      <td>Fm</td>\n",
       "      <td>agricultural_area</td>\n",
       "    </tr>\n",
       "  </tbody>\n",
       "</table>\n",
       "</div>"
      ],
      "text/plain": [
       "  country_or_area element_code element    year     unit    value  \\\n",
       "0     Afghanistan           11    Area  2007.0  1000 Ha  38661.0   \n",
       "1     Afghanistan           11    Area  2006.0  1000 Ha  38659.0   \n",
       "2     Afghanistan           11    Area  2005.0  1000 Ha  38515.0   \n",
       "3     Afghanistan           11    Area  2004.0  1000 Ha  38064.0   \n",
       "4     Afghanistan           11    Area  2003.0  1000 Ha  38899.0   \n",
       "\n",
       "  value_footnotes           category  \n",
       "0              Q   agricultural_area  \n",
       "1              Fm  agricultural_area  \n",
       "2              Fm  agricultural_area  \n",
       "3              Fm  agricultural_area  \n",
       "4              Fm  agricultural_area  "
      ]
     },
     "execution_count": 16,
     "metadata": {},
     "output_type": "execute_result"
    }
   ],
   "source": [
    "agri4.head()"
   ]
  },
  {
   "cell_type": "code",
   "execution_count": 33,
   "id": "ec28af25",
   "metadata": {},
   "outputs": [
    {
     "name": "stdout",
     "output_type": "stream",
     "text": [
      "Index(['country_or_area', 'element_code', 'element', 'year', 'unit', 'value',\n",
      "       'value_footnotes', 'category'],\n",
      "      dtype='object')\n"
     ]
    }
   ],
   "source": [
    "print(agri4.columns)"
   ]
  },
  {
   "cell_type": "code",
   "execution_count": 27,
   "id": "b5b2108d",
   "metadata": {},
   "outputs": [
    {
     "name": "stdout",
     "output_type": "stream",
     "text": [
      "-----------------------------Analysis Of 4th Dataset Over--------------------------------\n"
     ]
    }
   ],
   "source": [
    "print(\"-----------------------------Analysis Of 4th Dataset Over--------------------------------\")"
   ]
  },
  {
   "cell_type": "code",
   "execution_count": 19,
   "id": "0bca667d",
   "metadata": {},
   "outputs": [],
   "source": [
    "agri5 = pd.read_csv('Dataset/fao_data_production_indices_data.csv')"
   ]
  },
  {
   "cell_type": "code",
   "execution_count": 20,
   "id": "a9ed2ca4",
   "metadata": {},
   "outputs": [
    {
     "data": {
      "text/html": [
       "<div>\n",
       "<style scoped>\n",
       "    .dataframe tbody tr th:only-of-type {\n",
       "        vertical-align: middle;\n",
       "    }\n",
       "\n",
       "    .dataframe tbody tr th {\n",
       "        vertical-align: top;\n",
       "    }\n",
       "\n",
       "    .dataframe thead th {\n",
       "        text-align: right;\n",
       "    }\n",
       "</style>\n",
       "<table border=\"1\" class=\"dataframe\">\n",
       "  <thead>\n",
       "    <tr style=\"text-align: right;\">\n",
       "      <th></th>\n",
       "      <th>country_or_area</th>\n",
       "      <th>element_code</th>\n",
       "      <th>element</th>\n",
       "      <th>year</th>\n",
       "      <th>unit</th>\n",
       "      <th>value</th>\n",
       "      <th>value_footnotes</th>\n",
       "      <th>category</th>\n",
       "    </tr>\n",
       "  </thead>\n",
       "  <tbody>\n",
       "    <tr>\n",
       "      <th>0</th>\n",
       "      <td>Afghanistan</td>\n",
       "      <td>152</td>\n",
       "      <td>Gross Production 1999-2001 (1000 I$)</td>\n",
       "      <td>2007.0</td>\n",
       "      <td>1000 Int. $</td>\n",
       "      <td>2486910.0</td>\n",
       "      <td>A</td>\n",
       "      <td>agriculture_pin</td>\n",
       "    </tr>\n",
       "    <tr>\n",
       "      <th>1</th>\n",
       "      <td>Afghanistan</td>\n",
       "      <td>152</td>\n",
       "      <td>Gross Production 1999-2001 (1000 I$)</td>\n",
       "      <td>2006.0</td>\n",
       "      <td>1000 Int. $</td>\n",
       "      <td>2278516.0</td>\n",
       "      <td>A</td>\n",
       "      <td>agriculture_pin</td>\n",
       "    </tr>\n",
       "    <tr>\n",
       "      <th>2</th>\n",
       "      <td>Afghanistan</td>\n",
       "      <td>152</td>\n",
       "      <td>Gross Production 1999-2001 (1000 I$)</td>\n",
       "      <td>2005.0</td>\n",
       "      <td>1000 Int. $</td>\n",
       "      <td>2524097.0</td>\n",
       "      <td>A</td>\n",
       "      <td>agriculture_pin</td>\n",
       "    </tr>\n",
       "    <tr>\n",
       "      <th>3</th>\n",
       "      <td>Afghanistan</td>\n",
       "      <td>152</td>\n",
       "      <td>Gross Production 1999-2001 (1000 I$)</td>\n",
       "      <td>2004.0</td>\n",
       "      <td>1000 Int. $</td>\n",
       "      <td>2226346.0</td>\n",
       "      <td>A</td>\n",
       "      <td>agriculture_pin</td>\n",
       "    </tr>\n",
       "    <tr>\n",
       "      <th>4</th>\n",
       "      <td>Afghanistan</td>\n",
       "      <td>152</td>\n",
       "      <td>Gross Production 1999-2001 (1000 I$)</td>\n",
       "      <td>2003.0</td>\n",
       "      <td>1000 Int. $</td>\n",
       "      <td>2289434.0</td>\n",
       "      <td>A</td>\n",
       "      <td>agriculture_pin</td>\n",
       "    </tr>\n",
       "  </tbody>\n",
       "</table>\n",
       "</div>"
      ],
      "text/plain": [
       "  country_or_area element_code                               element    year  \\\n",
       "0     Afghanistan          152  Gross Production 1999-2001 (1000 I$)  2007.0   \n",
       "1     Afghanistan          152  Gross Production 1999-2001 (1000 I$)  2006.0   \n",
       "2     Afghanistan          152  Gross Production 1999-2001 (1000 I$)  2005.0   \n",
       "3     Afghanistan          152  Gross Production 1999-2001 (1000 I$)  2004.0   \n",
       "4     Afghanistan          152  Gross Production 1999-2001 (1000 I$)  2003.0   \n",
       "\n",
       "          unit      value value_footnotes         category  \n",
       "0  1000 Int. $  2486910.0              A   agriculture_pin  \n",
       "1  1000 Int. $  2278516.0              A   agriculture_pin  \n",
       "2  1000 Int. $  2524097.0              A   agriculture_pin  \n",
       "3  1000 Int. $  2226346.0              A   agriculture_pin  \n",
       "4  1000 Int. $  2289434.0              A   agriculture_pin  "
      ]
     },
     "execution_count": 20,
     "metadata": {},
     "output_type": "execute_result"
    }
   ],
   "source": [
    "agri5.head()"
   ]
  },
  {
   "cell_type": "code",
   "execution_count": null,
   "id": "f1c1393f",
   "metadata": {},
   "outputs": [],
   "source": []
  },
  {
   "cell_type": "code",
   "execution_count": null,
   "id": "54382c8c",
   "metadata": {},
   "outputs": [],
   "source": []
  },
  {
   "cell_type": "code",
   "execution_count": null,
   "id": "1ee70db8",
   "metadata": {},
   "outputs": [],
   "source": []
  },
  {
   "cell_type": "code",
   "execution_count": 34,
   "id": "6d1d2dcf",
   "metadata": {},
   "outputs": [
    {
     "name": "stdout",
     "output_type": "stream",
     "text": [
      "Index(['country_or_area', 'element_code', 'element', 'year', 'unit', 'value',\n",
      "       'value_footnotes', 'category'],\n",
      "      dtype='object')\n"
     ]
    }
   ],
   "source": [
    "print(agri5.columns)"
   ]
  },
  {
   "cell_type": "code",
   "execution_count": 29,
   "id": "bc177c65",
   "metadata": {},
   "outputs": [
    {
     "name": "stdout",
     "output_type": "stream",
     "text": [
      "-----------------------------Analysis Of 5th Dataset Over--------------------------------\n"
     ]
    }
   ],
   "source": [
    "print(\"-----------------------------Analysis Of 5th Dataset Over--------------------------------\")"
   ]
  },
  {
   "cell_type": "code",
   "execution_count": 37,
   "id": "cf27c817",
   "metadata": {},
   "outputs": [
    {
     "name": "stdout",
     "output_type": "stream",
     "text": [
      "CONCLUSION\n",
      "According to the \n"
     ]
    }
   ],
   "source": [
    "print(\"CONCLUSION\\nAccording to the \")"
   ]
  },
  {
   "cell_type": "code",
   "execution_count": null,
   "id": "8cf297c9",
   "metadata": {},
   "outputs": [],
   "source": []
  }
 ],
 "metadata": {
  "kernelspec": {
   "display_name": "Python 3 (ipykernel)",
   "language": "python",
   "name": "python3"
  },
  "language_info": {
   "codemirror_mode": {
    "name": "ipython",
    "version": 3
   },
   "file_extension": ".py",
   "mimetype": "text/x-python",
   "name": "python",
   "nbconvert_exporter": "python",
   "pygments_lexer": "ipython3",
   "version": "3.9.7"
  }
 },
 "nbformat": 4,
 "nbformat_minor": 5
}
